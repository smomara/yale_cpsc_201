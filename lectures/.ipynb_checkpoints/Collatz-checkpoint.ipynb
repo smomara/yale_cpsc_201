{
 "cells": [
  {
   "cell_type": "markdown",
   "id": "a61f7387",
   "metadata": {},
   "source": [
    "# CS 201: Collatz\n",
    "\n",
    "## The Collatz Function"
   ]
  },
  {
   "cell_type": "code",
   "execution_count": 1,
   "id": "e81c377f",
   "metadata": {},
   "outputs": [],
   "source": [
    "(define (collatz n)\n",
    "  (if (= (modulo n 2) 0) (/ n 2)\n",
    "      (+ 1 (* n 3))))"
   ]
  },
  {
   "cell_type": "markdown",
   "id": "04969cd9",
   "metadata": {},
   "source": [
    "Let's try it out."
   ]
  },
  {
   "cell_type": "code",
   "execution_count": 2,
   "id": "b4e92813",
   "metadata": {},
   "outputs": [
    {
     "data": {
      "text/html": [
       "<code>34</code>"
      ],
      "text/plain": [
       "34"
      ]
     },
     "execution_count": 2,
     "metadata": {},
     "output_type": "execute_result"
    }
   ],
   "source": [
    "(collatz 11)"
   ]
  },
  {
   "cell_type": "code",
   "execution_count": 3,
   "id": "10c8da5a",
   "metadata": {},
   "outputs": [
    {
     "data": {
      "text/html": [
       "<code>17</code>"
      ],
      "text/plain": [
       "17"
      ]
     },
     "execution_count": 3,
     "metadata": {},
     "output_type": "execute_result"
    }
   ],
   "source": [
    "(collatz 34)"
   ]
  },
  {
   "cell_type": "code",
   "execution_count": 5,
   "id": "ec609393",
   "metadata": {},
   "outputs": [
    {
     "data": {
      "text/html": [
       "<code>52</code>"
      ],
      "text/plain": [
       "52"
      ]
     },
     "execution_count": 5,
     "metadata": {},
     "output_type": "execute_result"
    }
   ],
   "source": [
    "(collatz 17)"
   ]
  },
  {
   "cell_type": "markdown",
   "id": "4ffeb1cc",
   "metadata": {},
   "source": [
    "## Recursion\n",
    "\n",
    "We can have collatz call its own result"
   ]
  },
  {
   "cell_type": "code",
   "execution_count": 6,
   "id": "318b2da2",
   "metadata": {},
   "outputs": [
    {
     "data": {
      "text/html": [
       "<code>52</code>"
      ],
      "text/plain": [
       "52"
      ]
     },
     "execution_count": 6,
     "metadata": {},
     "output_type": "execute_result"
    }
   ],
   "source": [
    "(collatz (collatz (collatz 11)))"
   ]
  },
  {
   "cell_type": "markdown",
   "id": "33fe7f0c",
   "metadata": {},
   "source": [
    "Having a function call itself is known as **recursion**. We can generate the series based on Collatz using recursion.\n",
    "\n",
    "The function `c-series` calls itself until the result converges to 1. The function uses `let` to introduce a local variable `next`"
   ]
  },
  {
   "cell_type": "code",
   "execution_count": 10,
   "id": "3be039fc",
   "metadata": {},
   "outputs": [],
   "source": [
    "(define (c-series n)\n",
    "  (print n)\n",
    "  (newline)\n",
    "  (if (equal? n 1) 'done\n",
    "      (let ((next (collatz n)))\n",
    "      (c-series next))))"
   ]
  },
  {
   "cell_type": "code",
   "execution_count": 11,
   "id": "cd6374a5",
   "metadata": {},
   "outputs": [
    {
     "name": "stdout",
     "output_type": "stream",
     "text": [
      "11\n",
      "34\n",
      "17\n",
      "52\n",
      "26\n",
      "13\n",
      "40\n",
      "20\n",
      "10\n",
      "5\n",
      "16\n",
      "8\n",
      "4\n",
      "2\n",
      "1\n"
     ]
    },
    {
     "data": {
      "text/html": [
       "<code>'done</code>"
      ],
      "text/plain": [
       "'done"
      ]
     },
     "execution_count": 11,
     "metadata": {},
     "output_type": "execute_result"
    }
   ],
   "source": [
    "(c-series 11)"
   ]
  },
  {
   "cell_type": "markdown",
   "id": "371a0d3f",
   "metadata": {},
   "source": [
    "We can generate the series based on Collatz using recursion as above, but without the temporary variable `next`"
   ]
  },
  {
   "cell_type": "code",
   "execution_count": null,
   "id": "b9cdcc18",
   "metadata": {},
   "outputs": [],
   "source": [
    "(define (c-series2 n)\n",
    "  (print n)\n",
    "  (newline)\n",
    "  (if (equal? n 1) 'done\n",
    "      (c-series2 (collatz n)))"
   ]
  }
 ],
 "metadata": {
  "kernelspec": {
   "display_name": "Racket",
   "language": "racket",
   "name": "racket"
  },
  "language_info": {
   "codemirror_mode": "scheme",
   "file_extension": ".rkt",
   "mimetype": "text/x-racket",
   "name": "Racket",
   "pygments_lexer": "racket",
   "version": "7.9"
  }
 },
 "nbformat": 4,
 "nbformat_minor": 5
}
